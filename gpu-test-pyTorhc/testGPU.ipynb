{
 "cells": [
  {
   "cell_type": "code",
   "execution_count": 5,
   "id": "2529a669",
   "metadata": {},
   "outputs": [
    {
     "name": "stdout",
     "output_type": "stream",
     "text": [
      "Requirement already satisfied: torch==1.13.1 in c:\\programdata\\anaconda3\\envs\\python8-test1\\lib\\site-packages (1.13.1)\n",
      "Requirement already satisfied: typing-extensions in c:\\programdata\\anaconda3\\envs\\python8-test1\\lib\\site-packages (from torch==1.13.1) (4.4.0)\n",
      "Requirement already satisfied: numba==0.56.4 in c:\\programdata\\anaconda3\\envs\\python8-test1\\lib\\site-packages (0.56.4)\n",
      "Requirement already satisfied: importlib-metadata in c:\\programdata\\anaconda3\\envs\\python8-test1\\lib\\site-packages (from numba==0.56.4) (6.0.0)\n",
      "Requirement already satisfied: setuptools in c:\\programdata\\anaconda3\\envs\\python8-test1\\lib\\site-packages (from numba==0.56.4) (65.6.3)\n",
      "Requirement already satisfied: llvmlite<0.40,>=0.39.0dev0 in c:\\programdata\\anaconda3\\envs\\python8-test1\\lib\\site-packages (from numba==0.56.4) (0.39.1)\n",
      "Requirement already satisfied: numpy<1.24,>=1.18 in c:\\programdata\\anaconda3\\envs\\python8-test1\\lib\\site-packages (from numba==0.56.4) (1.23.5)\n",
      "Requirement already satisfied: zipp>=0.5 in c:\\programdata\\anaconda3\\envs\\python8-test1\\lib\\site-packages (from importlib-metadata->numba==0.56.4) (3.11.0)\n"
     ]
    }
   ],
   "source": [
    "!pip install torch==1.13.1\n",
    "!pip install numba==0.56.4"
   ]
  },
  {
   "cell_type": "code",
   "execution_count": 6,
   "id": "21404343",
   "metadata": {},
   "outputs": [],
   "source": [
    "from numba import jit, cuda\n",
    "import numpy as np\n",
    "# to measure exec time\n",
    "from timeit import default_timer as timer\n",
    "import torch"
   ]
  },
  {
   "cell_type": "code",
   "execution_count": 9,
   "id": "84b99c60",
   "metadata": {},
   "outputs": [],
   "source": [
    "# normal function to run on cpu\n",
    "def func(a):                                \n",
    "    for i in range(10000000):\n",
    "        a[i]+= 1"
   ]
  },
  {
   "cell_type": "code",
   "execution_count": 10,
   "id": "c0ba6a61",
   "metadata": {},
   "outputs": [],
   "source": [
    "# function optimized to run on gpu \n",
    "@jit(target_backend='cuda')                         \n",
    "def func2(a):\n",
    "    for i in range(10000000):\n",
    "        a[i]+= 1\n",
    "        \n"
   ]
  },
  {
   "cell_type": "code",
   "execution_count": 11,
   "id": "a341a67b",
   "metadata": {},
   "outputs": [
    {
     "name": "stdout",
     "output_type": "stream",
     "text": [
      "without GPU: 1.9165158000000133\n",
      "with GPU: 0.30894279999998275\n"
     ]
    }
   ],
   "source": [
    "if __name__==\"__main__\":\n",
    "    n = 100000000                           \n",
    "    a = np.ones(n, dtype = np.float64)\n",
    "      \n",
    "    start = timer()\n",
    "    func(a)\n",
    "    print(\"without GPU:\", timer()-start)    \n",
    "      \n",
    "    start = timer()\n",
    "    func2(a)\n",
    "    print(\"with GPU:\", timer()-start)"
   ]
  },
  {
   "cell_type": "code",
   "execution_count": null,
   "id": "959d8a9e",
   "metadata": {},
   "outputs": [],
   "source": []
  }
 ],
 "metadata": {
  "kernelspec": {
   "display_name": "Python 3 (ipykernel)",
   "language": "python",
   "name": "python3"
  },
  "language_info": {
   "codemirror_mode": {
    "name": "ipython",
    "version": 3
   },
   "file_extension": ".py",
   "mimetype": "text/x-python",
   "name": "python",
   "nbconvert_exporter": "python",
   "pygments_lexer": "ipython3",
   "version": "3.8.16"
  }
 },
 "nbformat": 4,
 "nbformat_minor": 5
}
